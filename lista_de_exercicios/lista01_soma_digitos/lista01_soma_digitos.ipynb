{
 "cells": [
  {
   "cell_type": "markdown",
   "metadata": {},
   "source": [
    "# 📄 Lista de Exercícios\n",
    "\n",
    "## Exercício 01: Soma dos dígitos de um número inteiro\n",
    "\n",
    "Faça um programa que receba um **número inteiro positivo** (inserido via teclado) e retorne como output a **soma dos dígitos** desse número.\n",
    "\n",
    "### 🧾 Instruções\n",
    "- As **saídas** do programa devem ser **exatamente**:\n",
    "\n",
    "```text\n",
    "Entre com um inteiro positivo:\n",
    "A soma dos dígitos desse número é igual a <resultado da soma>\n",
    "```\n",
    "\n",
    "- **Não altere** nem adicione palavras ou pontuações nessas saídas (exceto `<resultado da soma>`, que deve ser substituído pelo resultado que seu programa gerar).\n",
    "- Caso contrário, a avaliação automática será prejudicada.\n"
   ]
  },
  {
   "cell_type": "code",
   "execution_count": null,
   "metadata": {},
   "outputs": [],
   "source": [
    "num = int(input(\"Entre com um inteiro positivo:\"))\n",
    "n = num\n",
    "soma = 0\n",
    "while n > 0:\n",
    "    soma = soma + (n % 10)\n",
    "    n = int(n / 10)\n",
    "print(\"A soma dos dígitos desse número é igual a\", soma)"
   ]
  }
 ],
 "metadata": {
  "kernelspec": {
   "display_name": "Python 3",
   "language": "python",
   "name": "python3"
  },
  "language_info": {
   "name": "python",
   "version": ""
  }
 },
 "nbformat": 4,
 "nbformat_minor": 5
}
